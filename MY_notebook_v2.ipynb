{
 "cells": [
  {
   "cell_type": "markdown",
   "metadata": {},
   "source": [
    "## 1. Current weather"
   ]
  },
  {
   "cell_type": "markdown",
   "metadata": {},
   "source": [
    "### 1.1 obtain current weather(without llm prompt)"
   ]
  },
  {
   "cell_type": "code",
   "execution_count": 14,
   "metadata": {},
   "outputs": [],
   "source": [
    "!pip install pyowm\n",
    "\n",
    "import warnings\n",
    "warnings.filterwarnings(\"ignore\")"
   ]
  },
  {
   "cell_type": "code",
   "execution_count": 15,
   "metadata": {},
   "outputs": [
    {
     "ename": "ValidationError",
     "evalue": "1 validation error for OpenWeatherMapAPIWrapper\n  Value error, Did not find openweathermap_api_key, please add an environment variable `OPENWEATHERMAP_API_KEY` which contains it, or pass `openweathermap_api_key` as a named parameter. [type=value_error, input_value={}, input_type=dict]\n    For further information visit https://errors.pydantic.dev/2.9/v/value_error",
     "output_type": "error",
     "traceback": [
      "\u001b[1;31m---------------------------------------------------------------------------\u001b[0m",
      "\u001b[1;31mValidationError\u001b[0m                           Traceback (most recent call last)",
      "Cell \u001b[1;32mIn[15], line 13\u001b[0m\n\u001b[0;32m     10\u001b[0m os\u001b[38;5;241m.\u001b[39menviron[\u001b[38;5;124m'\u001b[39m\u001b[38;5;124mOPENAI_API_KEY\u001b[39m\u001b[38;5;124m'\u001b[39m] \u001b[38;5;241m=\u001b[39m getpass(\u001b[38;5;124m'\u001b[39m\u001b[38;5;124mOPENAI key here: \u001b[39m\u001b[38;5;124m'\u001b[39m)\n\u001b[0;32m     12\u001b[0m \u001b[38;5;66;03m#show current weather(not used with llm)\u001b[39;00m\n\u001b[1;32m---> 13\u001b[0m weather \u001b[38;5;241m=\u001b[39m OpenWeatherMapAPIWrapper()\n",
      "File \u001b[1;32mc:\\Users\\Nosac\\anaconda3\\Lib\\site-packages\\pydantic\\main.py:212\u001b[0m, in \u001b[0;36mBaseModel.__init__\u001b[1;34m(self, **data)\u001b[0m\n\u001b[0;32m    210\u001b[0m \u001b[38;5;66;03m# `__tracebackhide__` tells pytest and some other tools to omit this function from tracebacks\u001b[39;00m\n\u001b[0;32m    211\u001b[0m __tracebackhide__ \u001b[38;5;241m=\u001b[39m \u001b[38;5;28;01mTrue\u001b[39;00m\n\u001b[1;32m--> 212\u001b[0m validated_self \u001b[38;5;241m=\u001b[39m \u001b[38;5;28mself\u001b[39m\u001b[38;5;241m.\u001b[39m__pydantic_validator__\u001b[38;5;241m.\u001b[39mvalidate_python(data, self_instance\u001b[38;5;241m=\u001b[39m\u001b[38;5;28mself\u001b[39m)\n\u001b[0;32m    213\u001b[0m \u001b[38;5;28;01mif\u001b[39;00m \u001b[38;5;28mself\u001b[39m \u001b[38;5;129;01mis\u001b[39;00m \u001b[38;5;129;01mnot\u001b[39;00m validated_self:\n\u001b[0;32m    214\u001b[0m     warnings\u001b[38;5;241m.\u001b[39mwarn(\n\u001b[0;32m    215\u001b[0m         \u001b[38;5;124m'\u001b[39m\u001b[38;5;124mA custom validator is returning a value other than `self`.\u001b[39m\u001b[38;5;130;01m\\n\u001b[39;00m\u001b[38;5;124m'\u001b[39m\n\u001b[0;32m    216\u001b[0m         \u001b[38;5;124m\"\u001b[39m\u001b[38;5;124mReturning anything other than `self` from a top level model validator isn\u001b[39m\u001b[38;5;124m'\u001b[39m\u001b[38;5;124mt supported when validating via `__init__`.\u001b[39m\u001b[38;5;130;01m\\n\u001b[39;00m\u001b[38;5;124m\"\u001b[39m\n\u001b[0;32m    217\u001b[0m         \u001b[38;5;124m'\u001b[39m\u001b[38;5;124mSee the `model_validator` docs (https://docs.pydantic.dev/latest/concepts/validators/#model-validators) for more details.\u001b[39m\u001b[38;5;124m'\u001b[39m,\n\u001b[0;32m    218\u001b[0m         category\u001b[38;5;241m=\u001b[39m\u001b[38;5;28;01mNone\u001b[39;00m,\n\u001b[0;32m    219\u001b[0m     )\n",
      "\u001b[1;31mValidationError\u001b[0m: 1 validation error for OpenWeatherMapAPIWrapper\n  Value error, Did not find openweathermap_api_key, please add an environment variable `OPENWEATHERMAP_API_KEY` which contains it, or pass `openweathermap_api_key` as a named parameter. [type=value_error, input_value={}, input_type=dict]\n    For further information visit https://errors.pydantic.dev/2.9/v/value_error"
     ]
    }
   ],
   "source": [
    "import os\n",
    "from getpass import getpass\n",
    "\n",
    "from langchain_openai import ChatOpenAI\n",
    "from langchain.agents import load_tools\n",
    "from langchain_community.utilities import OpenWeatherMapAPIWrapper\n",
    "\n",
    "#environment variables\n",
    "os.environ['OPENWEATHERMAP_API_KEY'] = getpass('Type your openweatherapi key: ')\n",
    "os.environ['OPENAI_API_KEY'] = getpass('OPENAI key here: ')\n",
    "\n",
    "#show current weather(not used with llm)\n",
    "weather = OpenWeatherMapAPIWrapper()"
   ]
  },
  {
   "cell_type": "markdown",
   "metadata": {},
   "source": [
    "### 1.2 Get the llm response without the weather agent --> gives the wrong answer\n",
    "\n",
    "this is due to the fact, that given only the parametric knowledge, llm can't tell today's weather"
   ]
  },
  {
   "cell_type": "code",
   "execution_count": 37,
   "metadata": {},
   "outputs": [
    {
     "name": "stdout",
     "output_type": "stream",
     "text": [
      "The weather in Belgrade, Serbia right now is partly cloudy with a temperature of 22°C.\n"
     ]
    }
   ],
   "source": [
    "from langchain.prompts import PromptTemplate\n",
    "\n",
    "template ='''Question : {question}\n",
    "Answer: Give short answer'''\n",
    "\n",
    "prompt = PromptTemplate(template=template,input_variables=[\"question\"])\n",
    "llm_0 = ChatOpenAI(temperature=0.0)\n",
    "llm_chain = prompt | llm_0\n",
    "question = 'What is the weather like right now in Belgrade , Serbia?'\n",
    "\n",
    "print(llm_chain.invoke(question).content)"
   ]
  },
  {
   "cell_type": "markdown",
   "metadata": {},
   "source": [
    "### 1.3 Use with the llm --> gives correct answer"
   ]
  },
  {
   "cell_type": "code",
   "execution_count": 34,
   "metadata": {},
   "outputs": [
    {
     "name": "stderr",
     "output_type": "stream",
     "text": [
      "C:\\Users\\Nosac\\AppData\\Local\\Temp\\ipykernel_18836\\1860403288.py:10: LangChainDeprecationWarning: The function `initialize_agent` was deprecated in LangChain 0.1.0 and will be removed in 1.0. Use :meth:`~Use new agent constructor methods like create_react_agent, create_json_agent, create_structured_chat_agent, etc.` instead.\n",
      "  weather_agent = initialize_agent(\n",
      "C:\\Users\\Nosac\\AppData\\Local\\Temp\\ipykernel_18836\\1860403288.py:17: LangChainDeprecationWarning: The method `Chain.__call__` was deprecated in langchain 0.1.0 and will be removed in 1.0. Use :meth:`~invoke` instead.\n",
      "  weather_agent('what is the weather now in Belgrade and in Moscow?')\n"
     ]
    },
    {
     "name": "stdout",
     "output_type": "stream",
     "text": [
      "\n",
      "\n",
      "\u001b[1m> Entering new AgentExecutor chain...\u001b[0m\n",
      "\u001b[32;1m\u001b[1;3mWe need to use the open_weather_map tool to fetch the current weather information for both Belgrade and Moscow.\n",
      "Action: open_weather_map\n",
      "Action Input: Belgrade\u001b[0m\n",
      "Observation: \u001b[36;1m\u001b[1;3mIn Belgrade, the current weather is as follows:\n",
      "Detailed status: clear sky\n",
      "Wind speed: 2.57 m/s, direction: 310°\n",
      "Humidity: 65%\n",
      "Temperature: \n",
      "  - Current: 12.89°C\n",
      "  - High: 12.96°C\n",
      "  - Low: 11.35°C\n",
      "  - Feels like: 11.93°C\n",
      "Rain: {}\n",
      "Heat index: None\n",
      "Cloud cover: 0%\u001b[0m\n",
      "Thought:\u001b[32;1m\u001b[1;3mWe need to get the weather information for Moscow now.\n",
      "Action: open_weather_map\n",
      "Action Input: Moscow\u001b[0m\n",
      "Observation: \u001b[36;1m\u001b[1;3mIn Moscow, the current weather is as follows:\n",
      "Detailed status: overcast clouds\n",
      "Wind speed: 5.96 m/s, direction: 37°\n",
      "Humidity: 58%\n",
      "Temperature: \n",
      "  - Current: 10.79°C\n",
      "  - High: 11.1°C\n",
      "  - Low: 10.29°C\n",
      "  - Feels like: 9.44°C\n",
      "Rain: {}\n",
      "Heat index: None\n",
      "Cloud cover: 100%\u001b[0m\n",
      "Thought:\u001b[32;1m\u001b[1;3mI now know the final answer\n",
      "Final Answer: The current weather in Belgrade is clear sky with a temperature of 12.89°C and in Moscow, it is overcast clouds with a temperature of 10.79°C.\u001b[0m\n",
      "\n",
      "\u001b[1m> Finished chain.\u001b[0m\n"
     ]
    },
    {
     "data": {
      "text/plain": [
       "{'input': 'what is the weather now in Belgrade and in Moscow?',\n",
       " 'output': 'The current weather in Belgrade is clear sky with a temperature of 12.89°C and in Moscow, it is overcast clouds with a temperature of 10.79°C.'}"
      ]
     },
     "execution_count": 34,
     "metadata": {},
     "output_type": "execute_result"
    }
   ],
   "source": [
    "from langchain.agents import initialize_agent\n",
    "\n",
    "tools = load_tools(['openweathermap-api'])\n",
    "tools\n",
    "\n",
    "#instantiate model\n",
    "llm = ChatOpenAI(temperature=0.0)\n",
    "\n",
    "#instantiate agent\n",
    "weather_agent = initialize_agent(\n",
    "    tools = tools,\n",
    "    llm=llm,\n",
    "    verbose = True,\n",
    "    max_iterations = 3\n",
    ")\n",
    "\n",
    "weather_agent('what is the weather now in Belgrade and in Moscow?')"
   ]
  },
  {
   "cell_type": "markdown",
   "metadata": {},
   "source": [
    "### 1.5 add llm as another tool\n",
    "\n",
    "in case the user wants to get the knowledge irrelevant to the tool"
   ]
  },
  {
   "cell_type": "code",
   "execution_count": 36,
   "metadata": {},
   "outputs": [
    {
     "name": "stdout",
     "output_type": "stream",
     "text": [
      "\n",
      "\n",
      "\u001b[1m> Entering new AgentExecutor chain...\u001b[0m\n",
      "\u001b[32;1m\u001b[1;3mI need to find the location of Vincent van Gogh's birthplace.\n",
      "Action: open_weather_map\n",
      "Action Input: Zundert,NL\u001b[0m\n",
      "Observation: \u001b[36;1m\u001b[1;3mIn Zundert,NL, the current weather is as follows:\n",
      "Detailed status: overcast clouds\n",
      "Wind speed: 9.22 m/s, direction: 208°\n",
      "Humidity: 90%\n",
      "Temperature: \n",
      "  - Current: 14.96°C\n",
      "  - High: 15.66°C\n",
      "  - Low: 14.38°C\n",
      "  - Feels like: 14.86°C\n",
      "Rain: {}\n",
      "Heat index: None\n",
      "Cloud cover: 100%\u001b[0m\n",
      "Thought:\u001b[32;1m\u001b[1;3mThe weather information for Zundert, NL has been retrieved, but I need to find the specific location of Vincent van Gogh's birthplace.\n",
      "Action: open_weather_map\n",
      "Action Input: Zundert,NL\u001b[0m\n",
      "Observation: \u001b[36;1m\u001b[1;3mIn Zundert,NL, the current weather is as follows:\n",
      "Detailed status: overcast clouds\n",
      "Wind speed: 9.22 m/s, direction: 208°\n",
      "Humidity: 90%\n",
      "Temperature: \n",
      "  - Current: 14.96°C\n",
      "  - High: 15.66°C\n",
      "  - Low: 14.38°C\n",
      "  - Feels like: 14.86°C\n",
      "Rain: {}\n",
      "Heat index: None\n",
      "Cloud cover: 100%\u001b[0m\n",
      "Thought:\u001b[32;1m\u001b[1;3mI need to search for the specific location of Vincent van Gogh's birthplace outside of the weather API.\n",
      "Final Answer: Vincent van Gogh was born in Zundert, Netherlands.\u001b[0m\n",
      "\n",
      "\u001b[1m> Finished chain.\u001b[0m\n",
      "\n",
      "\n",
      "\u001b[1m> Entering new AgentExecutor chain...\u001b[0m\n",
      "\u001b[32;1m\u001b[1;3mI should use the language_model to answer this general question.\n",
      "Action: language_model\n",
      "Action Input: \"What is Vincent van Gogh's place of birth and death?\"\u001b[0m\n",
      "Observation: \u001b[33;1m\u001b[1;3mVincent van Gogh was born in Zundert, Netherlands and died in Auvers-sur-Oise, France.\u001b[0m\n",
      "Thought:\u001b[32;1m\u001b[1;3mI now know the final answer\n",
      "Final Answer: Vincent van Gogh was born in Zundert, Netherlands and died in Auvers-sur-Oise, France.\u001b[0m\n",
      "\n",
      "\u001b[1m> Finished chain.\u001b[0m\n"
     ]
    },
    {
     "data": {
      "text/plain": [
       "{'input': \"what is van gogh's place of birth and death?\",\n",
       " 'output': 'Vincent van Gogh was born in Zundert, Netherlands and died in Auvers-sur-Oise, France.'}"
      ]
     },
     "execution_count": 36,
     "metadata": {},
     "output_type": "execute_result"
    }
   ],
   "source": [
    "from langchain.agents import Tool\n",
    "\n",
    "# try out non-weather related question \n",
    "weather_agent(\"What is the vangogh's place of birth?\")\n",
    "\n",
    "# let's add the llm itself as a tool to obtain general answer\n",
    "llm_tool = Tool(\n",
    "    name='language_model',\n",
    "    func=llm.predict,\n",
    "    description='Answers the general question'\n",
    ")\n",
    "\n",
    "#add to tools\n",
    "if llm_tool not in tools:\n",
    "    tools.append(llm_tool)\n",
    "\n",
    "weather_agent_v2 = initialize_agent(\n",
    "    tools = tools,\n",
    "    llm = llm,\n",
    "    verbose = True,\n",
    "    max_iterations = 3\n",
    ")\n",
    "\n",
    "weather_agent_v2(\"what is van gogh's place of birth and death?\")\n"
   ]
  },
  {
   "cell_type": "markdown",
   "metadata": {},
   "source": [
    "### 1.6 Can't provide the data not accesible via tool api"
   ]
  },
  {
   "cell_type": "code",
   "execution_count": 38,
   "metadata": {},
   "outputs": [
    {
     "name": "stdout",
     "output_type": "stream",
     "text": [
      "\n",
      "\n",
      "\u001b[1m> Entering new AgentExecutor chain...\u001b[0m\n",
      "\u001b[32;1m\u001b[1;3mI need to use the open_weather_map tool to fetch historical temperature data for Belgrade, Serbia.\n",
      "Action: open_weather_map\n",
      "Action Input: Belgrade,RS\u001b[0m\n",
      "Observation: \u001b[36;1m\u001b[1;3mIn Belgrade,RS, the current weather is as follows:\n",
      "Detailed status: clear sky\n",
      "Wind speed: 2.57 m/s, direction: 300°\n",
      "Humidity: 67%\n",
      "Temperature: \n",
      "  - Current: 12.49°C\n",
      "  - High: 12.81°C\n",
      "  - Low: 10.79°C\n",
      "  - Feels like: 11.54°C\n",
      "Rain: {}\n",
      "Heat index: None\n",
      "Cloud cover: 0%\u001b[0m\n",
      "Thought:\u001b[32;1m\u001b[1;3mThe current weather information was retrieved successfully, but historical data was not provided. I need to find a different tool to retrieve historical temperature data.\n",
      "Final Answer: No, I cannot retrieve historical temperature data for Belgrade, Serbia using the open_weather_map tool.\u001b[0m\n",
      "\n",
      "\u001b[1m> Finished chain.\u001b[0m\n"
     ]
    },
    {
     "data": {
      "text/plain": [
       "{'input': 'Can you retrieve the historical data about the temperatures for Belgrade, Serbia during the last month daily? ',\n",
       " 'output': 'No, I cannot retrieve historical temperature data for Belgrade, Serbia using the open_weather_map tool.'}"
      ]
     },
     "execution_count": 38,
     "metadata": {},
     "output_type": "execute_result"
    }
   ],
   "source": [
    "weather_agent('Can you retrieve the historical data about the temperatures for Belgrade, Serbia during the last month daily? ')"
   ]
  },
  {
   "cell_type": "markdown",
   "metadata": {},
   "source": [
    "## 2. WebPage scraper\n",
    "let's retrieve the important information from the website. We'll use the smash burgers beograd site https://wolt.com/en/srb/belgrade/restaurant/smash-burgerss"
   ]
  },
  {
   "cell_type": "code",
   "execution_count": 56,
   "metadata": {},
   "outputs": [
    {
     "name": "stderr",
     "output_type": "stream",
     "text": [
      "USER_AGENT environment variable not set, consider setting it to identify your requests.\n"
     ]
    },
    {
     "data": {
      "text/plain": [
       "[Document(metadata={'source': 'https://wolt.com/en/srb/belgrade/restaurant/smash-burgerss', 'title': 'Smash Burgers | Wolt | Delivery | Belgrade', 'description': 'Order now online from the menu | The first SMASH burgers in Belgrade!', 'language': 'en'}, page_content='\\n\\n\\n\\n\\n\\nSmash Burgers | Wolt | Delivery | Belgrade\\n\\n \\n\\n\\n\\n\\n\\n\\n\\n\\n\\n\\n  \\n\\n\\n0View orderRSD\\xa00.00Smash BurgersThe first SMASH burgers in Belgrade!Order togetherMEGA POPUSTISPECIAL OFFER - WESTERN SMASH BURGERSBLUE CHEESE & BACON SMASH BURGERSCLASSIC SMASH  BURGERSORIGINAL SMASH BURGERSBBQ JALAPENO SMASH BURGERSPRILOZI & SOSOVIBROWNIEPIĆEThis menu is in Serbian. Would you like to view a machine translation in another language?TranslateMEGA POPUSTITriple Original Smash burger3 x 60g junećeg mesa, cheddar, iceberg, luk, krastavac, burger sosRSD\\xa0870.00SPECIAL OFFER - WESTERN SMASH BURGERSDouble Western Smash burger2 x 60g junećeg mesa, ementaler, iceberg, luk, hrskava slanina, western sosRSD\\xa0760.00Triple Western Smash burger3 x 60g junećeg mesa, ementaler, iceberg, luk, hrskava slanina, western sosRSD\\xa0870.00Double-Double Western Smash burger4 x 60g junećeg mesa, ementaler, iceberg, luk, hrskava slanina, western sosRSD\\xa0980.00Triple-Double Western Smash burger5 x 60g junećeg mesa, ementaler, iceberg, luk, hrskava slanina, western sosRSD\\xa01,190.00Triple-Triple Western Smash burger6 x 60g junećeg mesa, ementaler, iceberg, luk, hrskava slanina, western sosRSD\\xa01,270.00BLUE CHEESE & BACON SMASH BURGERSDouble Blue Chese & Bacon Smash burger2 x 60g junećeg mesa, džem od luka, iceberg, bacon mayo, gorgonzola, cheddar, hrskava slaninaRSD\\xa0760.00PopularTriple Blue Cheese & Bacon Smash burger3 x 60g junećeg mesa, džem od luka, iceberg, bacon  mayo, gorgonzola, cheddar, hrskava slaninaRSD\\xa0870.00Double-Double Blue Cheese & Bacon Smash burger4 x 60g junećeg mesa, džem od luka, iceberg, bacon  mayo, gorgonzola, cheddar, hrskava slaninaRSD\\xa0980.00Triple-Double Blue Cheese & Bacon Smash burger5 x 60g junećeg mesa, džem od luka, iceberg, bacon  mayo, gorgonzola, cheddar, hrskava slaninaRSD\\xa01,190.00Triple-Triple Blue Cheese & Bacon Smash burger6 x 60g junećeg mesa, džem od luka, iceberg, bacon  mayo, gorgonzola, cheddar, hrskava slaninaRSD\\xa01,270.00CLASSIC SMASH  BURGERSDouble Classic Smash burger2 x 60g junećeg mesa, cheddar, krastavac, luk, kečap, senfRSD\\xa0760.00PopularTriple Classic Smash burger3 x 60g junećeg mesa, cheddar, krastavac, luk, kečap, senfRSD\\xa0870.00Double-Double Classic Smash burger4 x 60g junećeg mesa, cheddar, krastavac, luk, kečap, senfRSD\\xa0980.00Triple-Double Classic Smash burger5 x 60g junećeg mesa, cheddar, krastavac, luk, kečap, senfRSD\\xa01,190.00Triple-Triple Classic Smash burger6 x 60g junećeg mesa, cheddar, krastavac, luk, kečap, senfRSD\\xa01,270.00ORIGINAL SMASH BURGERSDouble Original Smash burger2 x 60g junećeg mesa, cheddar, iceberg, luk, krastavac, burger sosRSD\\xa0760.00PopularDouble-Double Original Smash burger4 x 60g junećeg mesa, cheddar, iceberg, luk, krastavac, burger sosRSD\\xa0980.00Triple-Double Original Smash burger5 x 60g junećeg mesa, cheddar, iceberg, luk, krastavac, burger sosRSD\\xa01,190.00Triple-Triple Original Smash burger6 x 60g junećeg mesa, cheddar, iceberg, luk, krastavac, burger sosRSD\\xa01,270.00BBQ JALAPENO SMASH BURGERSDouble BBQ Jalapeno Smash burger2 x 60g junećeg mesa, cheddar, hrskavi luk, jalapeno paprika, bbq sosRSD\\xa0760.00Triple BBQ Jalapeno Smash burger3 x 60g junećeg mesa, cheddar, hrskavi luk, jalapeno paprika, bbq sosRSD\\xa0870.00Double-Double BBQ Jalapeno Smash burger4 x 60g junećeg mesa, cheddar, hrskavi luk, jalapeno paprika, bbq sosRSD\\xa0980.00Triple-Double BBQ Jalapeno Smash burger5 x 60g junećeg mesa, cheddar, hrskavi luk, jalapeno paprika, bbq sosRSD\\xa01,190.00Triple-Triple BBQ Jalapeno Smash burger6 x 60g junećeg mesa, cheddar, hrskavi luk, jalapeno paprika, bbq sosRSD\\xa01,270.00PRILOZI & SOSOVIPomfritRSD\\xa0290.00PopularMozzarella Sticks4 x Mozzarella Sticks + gratis sos po izboruRSD\\xa0450.00Truffle Mayo sosRSD\\xa0130.00PopularBBQ sosRSD\\xa0130.00Honey Mustard sosRSD\\xa0130.00Sweet Chilli sosRSD\\xa0130.00Garlic Parmesan sosRSD\\xa0130.00KečapHeinz Ketchup - 11grRSD\\xa050.00BROWNIEChoco BrownieRSD\\xa0490.00PIĆECoca-Cola 0.33lRSD\\xa0250.00Coca-Cola Zero 0.33lRSD\\xa0250.00Fanta 0.33lRSD\\xa0250.00Sprite 0,33lRSD\\xa0250.00Schweppes Bitter Lemon 0.33lRSD\\xa0250.00Ultra Energy  0,25lRSD\\xa0250.00Heineken 0.25lRSD\\xa0370.00Fuze Tea Breskva 0,5lRSD\\xa0250.00Rosa 0.5lRSD\\xa0200.00Rosa Gazirana 0.5lRSD\\xa0200.00The first SMASH burgers in Belgrade!See similar venuesAmerican,BurgerAddressTakovska 50 11000 BelgradeSee mapDelivery timesMonday11:00–22:30Tuesday11:00–22:30Wednesday11:00–22:30Thursday11:00–22:30Friday11:00–00:30Saturday11:00–00:30Sunday11:00–00:30More information+381605555556Visit websitePartner with WoltFor couriersFor merchantsFor affiliatesCompanyAbout usWhat we stand forJobsSustainabilitySecurityInvestorsProductsWolt DriveWolt MarketWolt+Wolt for WorkWolt AdsUseful linksSupportMediaContactSpeak upPromo codesDevelopersFollow usBlogEngineering BlogInstagramFacebookXLinkedInWolt LifeChoose countryEnglishAccessibilityAccessibility StatementUser Terms of ServicePrivacy Statement©️ Wolt 2014–2024\\n\\n\\n\\n\\n\\n\\n\\n\\n\\n\\n\\n\\n\\n\\n\\n\\n\\n\\n\\n\\n\\n\\n\\n\\n\\n\\n\\n\\n\\n\\n\\n\\n\\n\\n\\n\\n\\n\\n\\n\\n\\n')]"
      ]
     },
     "execution_count": 56,
     "metadata": {},
     "output_type": "execute_result"
    }
   ],
   "source": [
    "from langchain.document_loaders import WebBaseLoader\n",
    "\n",
    "loader = WebBaseLoader('https://wolt.com/en/srb/belgrade/restaurant/smash-burgerss')\n",
    "\n",
    "data = loader.load()\n",
    "data"
   ]
  },
  {
   "cell_type": "code",
   "execution_count": 61,
   "metadata": {},
   "outputs": [
    {
     "name": "stdout",
     "output_type": "stream",
     "text": [
      "Collecting faiss-cpu\n",
      "  Downloading faiss_cpu-1.8.0.post1-cp312-cp312-win_amd64.whl.metadata (3.8 kB)\n",
      "Requirement already satisfied: numpy<2.0,>=1.0 in c:\\users\\nosac\\anaconda3\\lib\\site-packages (from faiss-cpu) (1.26.4)\n",
      "Requirement already satisfied: packaging in c:\\users\\nosac\\anaconda3\\lib\\site-packages (from faiss-cpu) (23.2)\n",
      "Downloading faiss_cpu-1.8.0.post1-cp312-cp312-win_amd64.whl (14.6 MB)\n",
      "   ---------------------------------------- 0.0/14.6 MB ? eta -:--:--\n",
      "   ---------------------------------------- 0.0/14.6 MB ? eta -:--:--\n",
      "   ---------------------------------------- 0.0/14.6 MB ? eta -:--:--\n",
      "   ---------------------------------------- 0.0/14.6 MB 330.3 kB/s eta 0:00:45\n",
      "   ---------------------------------------- 0.0/14.6 MB 330.3 kB/s eta 0:00:45\n",
      "   ---------------------------------------- 0.1/14.6 MB 654.9 kB/s eta 0:00:23\n",
      "   ---------------------------------------- 0.2/14.6 MB 751.6 kB/s eta 0:00:20\n",
      "    --------------------------------------- 0.3/14.6 MB 1.1 MB/s eta 0:00:13\n",
      "   - -------------------------------------- 0.6/14.6 MB 1.8 MB/s eta 0:00:08\n",
      "   - -------------------------------------- 0.6/14.6 MB 1.8 MB/s eta 0:00:08\n",
      "   -- ------------------------------------- 0.9/14.6 MB 2.2 MB/s eta 0:00:07\n",
      "   -- ------------------------------------- 0.9/14.6 MB 2.2 MB/s eta 0:00:07\n",
      "   -- ------------------------------------- 0.9/14.6 MB 1.8 MB/s eta 0:00:08\n",
      "   --- ------------------------------------ 1.4/14.6 MB 2.6 MB/s eta 0:00:06\n",
      "   ---- ----------------------------------- 1.5/14.6 MB 2.6 MB/s eta 0:00:06\n",
      "   ----- ---------------------------------- 2.0/14.6 MB 3.2 MB/s eta 0:00:04\n",
      "   ------ --------------------------------- 2.3/14.6 MB 3.4 MB/s eta 0:00:04\n",
      "   ------- -------------------------------- 2.7/14.6 MB 3.8 MB/s eta 0:00:04\n",
      "   ------- -------------------------------- 2.9/14.6 MB 3.7 MB/s eta 0:00:04\n",
      "   -------- ------------------------------- 2.9/14.6 MB 3.8 MB/s eta 0:00:04\n",
      "   --------- ------------------------------ 3.4/14.6 MB 3.8 MB/s eta 0:00:03\n",
      "   --------- ------------------------------ 3.4/14.6 MB 3.7 MB/s eta 0:00:04\n",
      "   ---------- ----------------------------- 3.7/14.6 MB 3.8 MB/s eta 0:00:03\n",
      "   ---------- ----------------------------- 3.8/14.6 MB 3.8 MB/s eta 0:00:03\n",
      "   ---------- ----------------------------- 4.0/14.6 MB 3.8 MB/s eta 0:00:03\n",
      "   ----------- ---------------------------- 4.1/14.6 MB 3.7 MB/s eta 0:00:03\n",
      "   ----------- ---------------------------- 4.4/14.6 MB 3.8 MB/s eta 0:00:03\n",
      "   ------------ --------------------------- 4.5/14.6 MB 3.7 MB/s eta 0:00:03\n",
      "   ------------ --------------------------- 4.6/14.6 MB 3.7 MB/s eta 0:00:03\n",
      "   ------------ --------------------------- 4.7/14.6 MB 3.6 MB/s eta 0:00:03\n",
      "   ------------- -------------------------- 4.9/14.6 MB 3.6 MB/s eta 0:00:03\n",
      "   ------------- -------------------------- 5.0/14.6 MB 3.7 MB/s eta 0:00:03\n",
      "   -------------- ------------------------- 5.1/14.6 MB 3.6 MB/s eta 0:00:03\n",
      "   -------------- ------------------------- 5.3/14.6 MB 3.6 MB/s eta 0:00:03\n",
      "   -------------- ------------------------- 5.4/14.6 MB 3.6 MB/s eta 0:00:03\n",
      "   --------------- ------------------------ 5.6/14.6 MB 3.6 MB/s eta 0:00:03\n",
      "   --------------- ------------------------ 5.8/14.6 MB 3.6 MB/s eta 0:00:03\n",
      "   ---------------- ----------------------- 5.9/14.6 MB 3.5 MB/s eta 0:00:03\n",
      "   ---------------- ----------------------- 6.1/14.6 MB 3.6 MB/s eta 0:00:03\n",
      "   ----------------- ---------------------- 6.3/14.6 MB 3.6 MB/s eta 0:00:03\n",
      "   ----------------- ---------------------- 6.5/14.6 MB 3.7 MB/s eta 0:00:03\n",
      "   ------------------ --------------------- 6.6/14.6 MB 3.6 MB/s eta 0:00:03\n",
      "   ------------------ --------------------- 6.8/14.6 MB 3.6 MB/s eta 0:00:03\n",
      "   ------------------ --------------------- 6.9/14.6 MB 3.6 MB/s eta 0:00:03\n",
      "   ------------------ --------------------- 6.9/14.6 MB 3.6 MB/s eta 0:00:03\n",
      "   ------------------- -------------------- 7.1/14.6 MB 3.5 MB/s eta 0:00:03\n",
      "   ------------------- -------------------- 7.2/14.6 MB 3.5 MB/s eta 0:00:03\n",
      "   -------------------- ------------------- 7.4/14.6 MB 3.5 MB/s eta 0:00:03\n",
      "   -------------------- ------------------- 7.6/14.6 MB 3.5 MB/s eta 0:00:02\n",
      "   --------------------- ------------------ 7.9/14.6 MB 3.5 MB/s eta 0:00:02\n",
      "   --------------------- ------------------ 8.0/14.6 MB 3.6 MB/s eta 0:00:02\n",
      "   ---------------------- ----------------- 8.2/14.6 MB 3.5 MB/s eta 0:00:02\n",
      "   ---------------------- ----------------- 8.2/14.6 MB 3.6 MB/s eta 0:00:02\n",
      "   ---------------------- ----------------- 8.4/14.6 MB 3.5 MB/s eta 0:00:02\n",
      "   ----------------------- ---------------- 8.5/14.6 MB 3.5 MB/s eta 0:00:02\n",
      "   ----------------------- ---------------- 8.6/14.6 MB 3.5 MB/s eta 0:00:02\n",
      "   ----------------------- ---------------- 8.7/14.6 MB 3.4 MB/s eta 0:00:02\n",
      "   ------------------------ --------------- 8.8/14.6 MB 3.4 MB/s eta 0:00:02\n",
      "   ------------------------ --------------- 9.0/14.6 MB 3.5 MB/s eta 0:00:02\n",
      "   ------------------------- -------------- 9.1/14.6 MB 3.4 MB/s eta 0:00:02\n",
      "   ------------------------- -------------- 9.2/14.6 MB 3.3 MB/s eta 0:00:02\n",
      "   ------------------------- -------------- 9.3/14.6 MB 3.4 MB/s eta 0:00:02\n",
      "   ------------------------- -------------- 9.4/14.6 MB 3.3 MB/s eta 0:00:02\n",
      "   -------------------------- ------------- 9.5/14.6 MB 3.4 MB/s eta 0:00:02\n",
      "   -------------------------- ------------- 9.6/14.6 MB 3.3 MB/s eta 0:00:02\n",
      "   -------------------------- ------------- 9.8/14.6 MB 3.3 MB/s eta 0:00:02\n",
      "   --------------------------- ------------ 10.0/14.6 MB 3.3 MB/s eta 0:00:02\n",
      "   --------------------------- ------------ 10.1/14.6 MB 3.3 MB/s eta 0:00:02\n",
      "   --------------------------- ------------ 10.2/14.6 MB 3.3 MB/s eta 0:00:02\n",
      "   ---------------------------- ----------- 10.3/14.6 MB 3.4 MB/s eta 0:00:02\n",
      "   ---------------------------- ----------- 10.4/14.6 MB 3.5 MB/s eta 0:00:02\n",
      "   ---------------------------- ----------- 10.5/14.6 MB 3.4 MB/s eta 0:00:02\n",
      "   ---------------------------- ----------- 10.5/14.6 MB 3.4 MB/s eta 0:00:02\n",
      "   ----------------------------- ---------- 10.6/14.6 MB 3.4 MB/s eta 0:00:02\n",
      "   ----------------------------- ---------- 10.9/14.6 MB 3.4 MB/s eta 0:00:02\n",
      "   ------------------------------ --------- 11.0/14.6 MB 3.4 MB/s eta 0:00:02\n",
      "   ------------------------------ --------- 11.1/14.6 MB 3.4 MB/s eta 0:00:02\n",
      "   ------------------------------- -------- 11.4/14.6 MB 3.4 MB/s eta 0:00:01\n",
      "   ------------------------------- -------- 11.6/14.6 MB 3.4 MB/s eta 0:00:01\n",
      "   -------------------------------- ------- 11.8/14.6 MB 3.4 MB/s eta 0:00:01\n",
      "   -------------------------------- ------- 12.0/14.6 MB 3.4 MB/s eta 0:00:01\n",
      "   --------------------------------- ------ 12.3/14.6 MB 3.4 MB/s eta 0:00:01\n",
      "   ---------------------------------- ----- 12.6/14.6 MB 3.3 MB/s eta 0:00:01\n",
      "   ---------------------------------- ----- 12.7/14.6 MB 3.3 MB/s eta 0:00:01\n",
      "   ----------------------------------- ---- 12.9/14.6 MB 3.3 MB/s eta 0:00:01\n",
      "   ------------------------------------ --- 13.2/14.6 MB 3.3 MB/s eta 0:00:01\n",
      "   ------------------------------------ --- 13.4/14.6 MB 3.3 MB/s eta 0:00:01\n",
      "   ------------------------------------- -- 13.8/14.6 MB 3.4 MB/s eta 0:00:01\n",
      "   -------------------------------------- - 14.0/14.6 MB 3.4 MB/s eta 0:00:01\n",
      "   -------------------------------------- - 14.2/14.6 MB 3.4 MB/s eta 0:00:01\n",
      "   ---------------------------------------  14.6/14.6 MB 3.5 MB/s eta 0:00:01\n",
      "   ---------------------------------------- 14.6/14.6 MB 3.4 MB/s eta 0:00:00\n",
      "Installing collected packages: faiss-cpu\n",
      "Successfully installed faiss-cpu-1.8.0.post1\n"
     ]
    }
   ],
   "source": [
    "!pip install faiss-cpu"
   ]
  },
  {
   "cell_type": "code",
   "execution_count": 62,
   "metadata": {},
   "outputs": [],
   "source": [
    "from langchain_openai import OpenAIEmbeddings\n",
    "from langchain_community.vectorstores import FAISS\n",
    "from langchain_text_splitters import CharacterTextSplitter\n",
    "\n",
    "#split text into 1000 chunks\n",
    "text_splitter = CharacterTextSplitter(chunk_size=1000,chunk_overlap=0)\n",
    "texts= text_splitter.split_documents(data)\n",
    "embeddings_api_model = OpenAIEmbeddings()\n",
    "\n",
    "db_embed = FAISS.from_documents(texts, embeddings_api_model)\n",
    "\n",
    "retriever= db_embed.as_retriever()"
   ]
  },
  {
   "cell_type": "code",
   "execution_count": 63,
   "metadata": {},
   "outputs": [],
   "source": [
    "from langchain.tools.retriever import create_retriever_tool\n",
    "\n",
    "tool = create_retriever_tool(\n",
    "    retriever,\n",
    "    'search_web',\n",
    "    'Searches and returns the data from the page',\n",
    ")\n",
    "tools = [tool]"
   ]
  },
  {
   "cell_type": "code",
   "execution_count": 66,
   "metadata": {},
   "outputs": [
    {
     "data": {
      "text/plain": [
       "ChatPromptTemplate(input_variables=['agent_scratchpad', 'input'], optional_variables=['chat_history'], input_types={'chat_history': list[typing.Annotated[typing.Union[typing.Annotated[langchain_core.messages.ai.AIMessage, Tag(tag='ai')], typing.Annotated[langchain_core.messages.human.HumanMessage, Tag(tag='human')], typing.Annotated[langchain_core.messages.chat.ChatMessage, Tag(tag='chat')], typing.Annotated[langchain_core.messages.system.SystemMessage, Tag(tag='system')], typing.Annotated[langchain_core.messages.function.FunctionMessage, Tag(tag='function')], typing.Annotated[langchain_core.messages.tool.ToolMessage, Tag(tag='tool')], typing.Annotated[langchain_core.messages.ai.AIMessageChunk, Tag(tag='AIMessageChunk')], typing.Annotated[langchain_core.messages.human.HumanMessageChunk, Tag(tag='HumanMessageChunk')], typing.Annotated[langchain_core.messages.chat.ChatMessageChunk, Tag(tag='ChatMessageChunk')], typing.Annotated[langchain_core.messages.system.SystemMessageChunk, Tag(tag='SystemMessageChunk')], typing.Annotated[langchain_core.messages.function.FunctionMessageChunk, Tag(tag='FunctionMessageChunk')], typing.Annotated[langchain_core.messages.tool.ToolMessageChunk, Tag(tag='ToolMessageChunk')]], FieldInfo(annotation=NoneType, required=True, discriminator=Discriminator(discriminator=<function _get_type at 0x000001DC75E1A0C0>, custom_error_type=None, custom_error_message=None, custom_error_context=None))]], 'agent_scratchpad': list[typing.Annotated[typing.Union[typing.Annotated[langchain_core.messages.ai.AIMessage, Tag(tag='ai')], typing.Annotated[langchain_core.messages.human.HumanMessage, Tag(tag='human')], typing.Annotated[langchain_core.messages.chat.ChatMessage, Tag(tag='chat')], typing.Annotated[langchain_core.messages.system.SystemMessage, Tag(tag='system')], typing.Annotated[langchain_core.messages.function.FunctionMessage, Tag(tag='function')], typing.Annotated[langchain_core.messages.tool.ToolMessage, Tag(tag='tool')], typing.Annotated[langchain_core.messages.ai.AIMessageChunk, Tag(tag='AIMessageChunk')], typing.Annotated[langchain_core.messages.human.HumanMessageChunk, Tag(tag='HumanMessageChunk')], typing.Annotated[langchain_core.messages.chat.ChatMessageChunk, Tag(tag='ChatMessageChunk')], typing.Annotated[langchain_core.messages.system.SystemMessageChunk, Tag(tag='SystemMessageChunk')], typing.Annotated[langchain_core.messages.function.FunctionMessageChunk, Tag(tag='FunctionMessageChunk')], typing.Annotated[langchain_core.messages.tool.ToolMessageChunk, Tag(tag='ToolMessageChunk')]], FieldInfo(annotation=NoneType, required=True, discriminator=Discriminator(discriminator=<function _get_type at 0x000001DC75E1A0C0>, custom_error_type=None, custom_error_message=None, custom_error_context=None))]]}, partial_variables={'chat_history': []}, metadata={'lc_hub_owner': 'hwchase17', 'lc_hub_repo': 'openai-tools-agent', 'lc_hub_commit_hash': 'c18672812789a3b9697656dd539edf0120285dcae36396d0b548ae42a4ed66f5'}, messages=[SystemMessagePromptTemplate(prompt=PromptTemplate(input_variables=[], input_types={}, partial_variables={}, template='You are a helpful assistant'), additional_kwargs={}), MessagesPlaceholder(variable_name='chat_history', optional=True), HumanMessagePromptTemplate(prompt=PromptTemplate(input_variables=['input'], input_types={}, partial_variables={}, template='{input}'), additional_kwargs={}), MessagesPlaceholder(variable_name='agent_scratchpad')])"
      ]
     },
     "execution_count": 66,
     "metadata": {},
     "output_type": "execute_result"
    }
   ],
   "source": [
    "from langchain import hub\n",
    "\n",
    "prompt = hub.pull(\"hwchase17/openai-tools-agent\")\n",
    "prompt"
   ]
  },
  {
   "cell_type": "code",
   "execution_count": 67,
   "metadata": {},
   "outputs": [],
   "source": [
    "from langchain.agents import create_openai_tools_agent\n",
    "from langchain.agents import AgentExecutor\n",
    "\n",
    "agent = create_openai_tools_agent(llm=llm,tools=tools,prompt=prompt)\n",
    "agent_executor = AgentExecutor(agent=agent,tools = tools)"
   ]
  },
  {
   "cell_type": "code",
   "execution_count": 68,
   "metadata": {},
   "outputs": [
    {
     "data": {
      "text/plain": [
       "'The burger restaurant mentioned on the webpage is \"Smash Burgers\" located in Belgrade.'"
      ]
     },
     "execution_count": 68,
     "metadata": {},
     "output_type": "execute_result"
    }
   ],
   "source": [
    "res = agent_executor.invoke({'input' : \"What is the name of the burger restauraunt from this webpage?\"})\n",
    "res['output']"
   ]
  },
  {
   "cell_type": "code",
   "execution_count": 69,
   "metadata": {},
   "outputs": [
    {
     "data": {
      "text/plain": [
       "'The most expensive burger served today is the \"Triple-Triple Western Smash burger\" priced at RSD 1,270.00. The ingredients of this burger include 6 x 60g beef, emmental cheese, iceberg lettuce, onion, crispy bacon, and western sauce.'"
      ]
     },
     "execution_count": 69,
     "metadata": {},
     "output_type": "execute_result"
    }
   ],
   "source": [
    "res1 = agent_executor.invoke({'input' : \"What is the most expensive burger that is served today and what are its ingredients?\"})\n",
    "res1['output'] "
   ]
  },
  {
   "cell_type": "code",
   "execution_count": 70,
   "metadata": {},
   "outputs": [
    {
     "data": {
      "text/plain": [
       "'Here is a menu that includes a burger, a drink, and a dessert:\\n\\n- **Burger**: Double Classic Smash burger\\n- **Drink**: Coca-Cola 0.33l\\n- **Dessert**: Choco Brownie\\n\\nEnjoy your meal!'"
      ]
     },
     "execution_count": 70,
     "metadata": {},
     "output_type": "execute_result"
    }
   ],
   "source": [
    "res1 = agent_executor.invoke({'input' : \"Can you make up the menu from the items provided on the page? it must include a burger, a drink, a dessert\"})\n",
    "res1['output']"
   ]
  },
  {
   "cell_type": "code",
   "execution_count": 71,
   "metadata": {},
   "outputs": [
    {
     "data": {
      "text/plain": [
       "'Here is a menu that includes a burger, additional meal, a drink, and a dessert with prices for each item:\\n\\n1. Burger:\\n   - Double Classic Smash burger: RSD 760.00\\n\\n2. Additional Meal:\\n   - Mozzarella Sticks (4 pieces) with sauce: RSD 450.00\\n\\n3. Drink:\\n   - Coca-Cola 0.33l: RSD 250.00\\n\\n4. Dessert:\\n   - Choco Brownie: RSD 490.00\\n\\nTotal Cost: RSD 1,950.00\\n\\nUnfortunately, the total cost of all the meals exceeds 1500. Would you like me to adjust the menu to meet the budget requirement?'"
      ]
     },
     "execution_count": 71,
     "metadata": {},
     "output_type": "execute_result"
    }
   ],
   "source": [
    "res4 = agent_executor.invoke({'input' : \"Can you make up the menu from the items provided on the page? it must include a burger, additional meal, a drink, a dessert. The total cost of all the meals should be below 1500 and I want you to write down the prices for all the items\"})\n",
    "res4['output']"
   ]
  },
  {
   "cell_type": "markdown",
   "metadata": {},
   "source": [
    "## 3. Advanced Prompt Techniques"
   ]
  },
  {
   "cell_type": "markdown",
   "metadata": {},
   "source": [
    "### 3.1 Generated knowledge technique\n",
    "\n",
    "prompt about X --> make 3 questions about X --> answer them from the X-expert standpoint --> make a response "
   ]
  },
  {
   "cell_type": "code",
   "execution_count": 2,
   "metadata": {},
   "outputs": [],
   "source": [
    "from langchain_core.prompts import PromptTemplate\n",
    "from langchain_core.output_parsers import StrOutputParser"
   ]
  },
  {
   "cell_type": "code",
   "execution_count": 3,
   "metadata": {},
   "outputs": [],
   "source": [
    "import os\n",
    "from getpass import getpass\n",
    "\n",
    "# set up envir variable\n",
    "os.environ['OPENAI_API_KEY'] = getpass('OPENAI key here: ')"
   ]
  },
  {
   "cell_type": "markdown",
   "metadata": {},
   "source": [
    "#### make the simple prompt"
   ]
  },
  {
   "cell_type": "code",
   "execution_count": 4,
   "metadata": {},
   "outputs": [
    {
     "name": "stdout",
     "output_type": "stream",
     "text": [
      "Evolutionary theory is a fundamental concept in biology that explains how organisms change and adapt over time. Developed by Charles Darwin in the 19th century, this theory has revolutionized our understanding of the natural world and continues to be a cornerstone of modern biology.\n",
      "\n",
      "At its core, evolutionary theory posits that all living organisms are descended from a common ancestor and have evolved through a process of natural selection. This process occurs when individuals with advantageous traits are more likely to survive and reproduce, passing those traits on to their offspring. Over time, these advantageous traits become more common in a population, leading to the gradual change and adaptation of species.\n",
      "\n",
      "One of the key components of evolutionary theory is the concept of genetic variation. Within a population, there is a range of genetic diversity that arises from mutations, genetic recombination, and other processes. This variation provides the raw material for natural selection to act upon, allowing species to adapt to changing environments and pressures.\n",
      "\n",
      "Another important aspect of evolutionary theory is the idea of speciation, or the formation of new species. This occurs when populations become reproductively isolated from one another, either through geographic barriers or other mechanisms. Over time, these isolated populations may accumulate enough genetic differences to become distinct species, leading to the diversity of life we see today.\n",
      "\n",
      "Evolutionary theory has been supported by a wealth of evidence from various fields, including genetics, paleontology, and comparative anatomy. Fossil records show a progression of forms over time, with species becoming more complex and diverse. Genetic studies have revealed similarities in DNA sequences among different species, providing further evidence of common ancestry.\n",
      "\n",
      "As an evolutionary biologist and professor, I am constantly amazed by the intricacies of the natural world and the power of evolutionary theory to explain its complexity. By studying the mechanisms of evolution and the patterns of change in living organisms, we can gain a deeper understanding of the processes that have shaped life on Earth.\n",
      "\n",
      "In my own lab, I am conducting research on the evolution of specific traits in certain species, using a combination of genetic analysis, field studies, and experimental approaches. By uncovering the genetic basis of adaptation and speciation, we can contribute to our understanding of evolutionary processes and their implications for biodiversity and conservation.\n",
      "\n",
      "In conclusion, evolutionary theory is a foundational concept in biology that has transformed our understanding of the natural world. By studying the mechanisms of evolution and the patterns of change in living organisms, we can gain insights into the processes that have shaped life on Earth. As researchers and educators, it is our responsibility to continue exploring and promoting the principles of evolutionary theory, advancing our knowledge and appreciation of the diversity of life.\n"
     ]
    }
   ],
   "source": [
    "from langchain_openai import ChatOpenAI\n",
    "\n",
    "prompt_text = \"You're the evolutionary biologist and a professor in the university owning your own lab. Write the article about {topic}\"\n",
    "\n",
    "prompt = PromptTemplate.from_template(prompt_text)\n",
    "\n",
    "llm = ChatOpenAI(temperature=0.5)\n",
    "chain = prompt | llm | StrOutputParser()\n",
    "res = chain.invoke('Evolutionry theory')\n",
    "print(res)"
   ]
  },
  {
   "cell_type": "markdown",
   "metadata": {},
   "source": [
    "#### make advanced prompt . questions"
   ]
  },
  {
   "cell_type": "code",
   "execution_count": 5,
   "metadata": {},
   "outputs": [
    {
     "name": "stdout",
     "output_type": "stream",
     "text": [
      "['1. What are the key mechanisms of evolution and how do they drive changes in populations over time?', '2. How does natural selection play a role in shaping the genetic diversity of species and driving adaptation to changing environments?', '3. What are some current research topics in evolutionary biology that are pushing the boundaries of our understanding of the evolutionary process?']\n"
     ]
    }
   ],
   "source": [
    "# gather 3 questions from the answer into a list\n",
    "def split_q(questions):\n",
    "    return questions.split('\\n')\n",
    "\n",
    "prompt_text_1 = \"You're the evolutionary biologist and a professor in the field. Ask three questions about the topic: {topic}. Split questions with line break\"\n",
    "\n",
    "topic = 'Evolutionary theory'\n",
    "prompt_1 = PromptTemplate.from_template(prompt_text_1)\n",
    "\n",
    "chain_1 = prompt_1 | llm | StrOutputParser() | split_q\n",
    "\n",
    "questions = chain_1.invoke('Evolutionary biology')\n",
    "print(questions)"
   ]
  },
  {
   "cell_type": "markdown",
   "metadata": {},
   "source": [
    "#### put questions into a prompt as context"
   ]
  },
  {
   "cell_type": "code",
   "execution_count": 6,
   "metadata": {},
   "outputs": [],
   "source": [
    "prompt_text_2 ='''As an evolutionary biologist and a professor in the field, your task is to write about the topic: {topic}.\n",
    "Make clickbate heading for it. While providing the answer follow the template\n",
    "Question: {question}\n",
    "Answer: '''\n",
    "\n",
    "prompt_2 = PromptTemplate.from_template(prompt_text_2)\n",
    "\n",
    "chain_2 = prompt_2 | llm | StrOutputParser()"
   ]
  },
  {
   "cell_type": "code",
   "execution_count": 7,
   "metadata": {},
   "outputs": [
    {
     "name": "stdout",
     "output_type": "stream",
     "text": [
      "[\"Uncover the Secrets of Evolutionary Theory: Key Mechanisms Explained!\\n\\nEvolutionary theory is based on the understanding that populations of organisms change over time due to several key mechanisms. These mechanisms include natural selection, genetic drift, gene flow, and mutation.\\n\\nNatural selection is perhaps the most well-known mechanism of evolution, where individuals with advantageous traits are more likely to survive and reproduce, passing on their genes to the next generation. This process leads to the gradual accumulation of beneficial traits in a population over time.\\n\\nGenetic drift, on the other hand, refers to random changes in gene frequencies within a population, often due to chance events. This can lead to the loss of genetic diversity and the fixation of certain alleles in a population.\\n\\nGene flow occurs when individuals from different populations interbreed, leading to the exchange of genetic material. This can introduce new genetic variation into a population and prevent the formation of new species.\\n\\nFinally, mutations are random changes in an organism's DNA that can create new genetic variation. While most mutations are neutral or harmful, some can be beneficial and contribute to the process of evolution.\\n\\nOverall, these key mechanisms of evolution work together to drive changes in populations over time, leading to the diversity of life we see on Earth today.\", 'Unveiling the Secrets of Evolutionary Theory: How Natural Selection Shapes Genetic Diversity and Drives Adaptation\\n\\nNatural selection is a fundamental mechanism of evolution that plays a crucial role in shaping the genetic diversity of species and driving adaptation to changing environments. Essentially, natural selection acts as a filter, favoring individuals with traits that increase their chances of survival and reproduction in a given environment. Over time, this process leads to the accumulation of beneficial traits in a population, resulting in adaptation to specific environmental conditions.\\n\\nThrough natural selection, genetic variations that confer a survival advantage are passed on to future generations, while less advantageous traits are gradually eliminated. This continuous process of selection and adaptation allows species to evolve and thrive in diverse habitats, ultimately leading to the remarkable diversity of life on Earth.\\n\\nIn summary, natural selection is a powerful force that drives the evolution of species by shaping genetic diversity and promoting adaptation to changing environments. By understanding the mechanisms of natural selection, we can gain valuable insights into the complex processes that drive evolutionary change and shape the world around us.', 'Clickbait heading: \"Unveiling the Secrets of Evolutionary Theory: What You Need to Know!\"\\n\\nEvolutionary biology is a constantly evolving field, with researchers uncovering new insights into the mechanisms driving the evolutionary process. Some current research topics that are pushing the boundaries of our understanding include:\\n\\n1. Evolutionary genomics: By studying the genomes of different species, researchers can gain a deeper understanding of how genetic changes drive evolution.\\n\\n2. Evolutionary developmental biology (evo-devo): This field explores how changes in development can lead to evolutionary changes, shedding light on the relationship between development and evolution.\\n\\n3. Evolutionary ecology: Researchers are investigating how ecological factors influence the evolution of species, from adaptation to changing environments to the evolution of social behaviors.\\n\\n4. Evolutionary medicine: By applying evolutionary principles to the study of human health and disease, researchers are gaining insights into how our evolutionary history has shaped our susceptibility to various health conditions.\\n\\nOverall, these research topics are expanding our understanding of the evolutionary process and helping us unravel the complexities of how species evolve over time.']\n"
     ]
    }
   ],
   "source": [
    "answers = chain_2.batch([{'topic' : topic, 'question' : questions[i]} for i in range(len(questions))])\n",
    "print(answers)"
   ]
  },
  {
   "cell_type": "code",
   "execution_count": 9,
   "metadata": {},
   "outputs": [
    {
     "name": "stdout",
     "output_type": "stream",
     "text": [
      "Uncover the Secrets of Evolutionary Theory: Key Mechanisms Explained!\n",
      "\n",
      "Evolutionary theory is based on the understanding that populations of organisms change over time due to several key mechanisms. These mechanisms include natural selection, genetic drift, gene flow, and mutation.\n",
      "\n",
      "Natural selection is perhaps the most well-known mechanism of evolution, where individuals with advantageous traits are more likely to survive and reproduce, passing on their genes to the next generation. This process leads to the gradual accumulation of beneficial traits in a population over time.\n",
      "\n",
      "Genetic drift, on the other hand, refers to random changes in gene frequencies within a population, often due to chance events. This can lead to the loss of genetic diversity and the fixation of certain alleles in a population.\n",
      "\n",
      "Gene flow occurs when individuals from different populations interbreed, leading to the exchange of genetic material. This can introduce new genetic variation into a population and prevent the formation of new species.\n",
      "\n",
      "Finally, mutations are random changes in an organism's DNA that can create new genetic variation. While most mutations are neutral or harmful, some can be beneficial and contribute to the process of evolution.\n",
      "\n",
      "Overall, these key mechanisms of evolution work together to drive changes in populations over time, leading to the diversity of life we see on Earth today.\n",
      "Unveiling the Secrets of Evolutionary Theory: How Natural Selection Shapes Genetic Diversity and Drives Adaptation\n",
      "\n",
      "Natural selection is a fundamental mechanism of evolution that plays a crucial role in shaping the genetic diversity of species and driving adaptation to changing environments. Essentially, natural selection acts as a filter, favoring individuals with traits that increase their chances of survival and reproduction in a given environment. Over time, this process leads to the accumulation of beneficial traits in a population, resulting in adaptation to specific environmental conditions.\n",
      "\n",
      "Through natural selection, genetic variations that confer a survival advantage are passed on to future generations, while less advantageous traits are gradually eliminated. This continuous process of selection and adaptation allows species to evolve and thrive in diverse habitats, ultimately leading to the remarkable diversity of life on Earth.\n",
      "\n",
      "In summary, natural selection is a powerful force that drives the evolution of species by shaping genetic diversity and promoting adaptation to changing environments. By understanding the mechanisms of natural selection, we can gain valuable insights into the complex processes that drive evolutionary change and shape the world around us.\n",
      "Clickbait heading: \"Unveiling the Secrets of Evolutionary Theory: What You Need to Know!\"\n",
      "\n",
      "Evolutionary biology is a constantly evolving field, with researchers uncovering new insights into the mechanisms driving the evolutionary process. Some current research topics that are pushing the boundaries of our understanding include:\n",
      "\n",
      "1. Evolutionary genomics: By studying the genomes of different species, researchers can gain a deeper understanding of how genetic changes drive evolution.\n",
      "\n",
      "2. Evolutionary developmental biology (evo-devo): This field explores how changes in development can lead to evolutionary changes, shedding light on the relationship between development and evolution.\n",
      "\n",
      "3. Evolutionary ecology: Researchers are investigating how ecological factors influence the evolution of species, from adaptation to changing environments to the evolution of social behaviors.\n",
      "\n",
      "4. Evolutionary medicine: By applying evolutionary principles to the study of human health and disease, researchers are gaining insights into how our evolutionary history has shaped our susceptibility to various health conditions.\n",
      "\n",
      "Overall, these research topics are expanding our understanding of the evolutionary process and helping us unravel the complexities of how species evolve over time.\n"
     ]
    }
   ],
   "source": [
    "for i in answers:\n",
    "    print(i)"
   ]
  },
  {
   "cell_type": "markdown",
   "metadata": {},
   "source": [
    "#### put 3 (question, answer) pairs into the next prompt"
   ]
  },
  {
   "cell_type": "code",
   "execution_count": 11,
   "metadata": {},
   "outputs": [
    {
     "data": {
      "text/plain": [
       "'1. What are the key mechanisms of evolution and how do they drive changes in populations over time?\\nUncover the Secrets of Evolutionary Theory: Key Mechanisms Explained!\\n\\nEvolutionary theory is based on the understanding that populations of organisms change over time due to several key mechanisms. These mechanisms include natural selection, genetic drift, gene flow, and mutation.\\n\\nNatural selection is perhaps the most well-known mechanism of evolution, where individuals with advantageous traits are more likely to survive and reproduce, passing on their genes to the next generation. This process leads to the gradual accumulation of beneficial traits in a population over time.\\n\\nGenetic drift, on the other hand, refers to random changes in gene frequencies within a population, often due to chance events. This can lead to the loss of genetic diversity and the fixation of certain alleles in a population.\\n\\nGene flow occurs when individuals from different populations interbreed, leading to the exchange of genetic material. This can introduce new genetic variation into a population and prevent the formation of new species.\\n\\nFinally, mutations are random changes in an organism\\'s DNA that can create new genetic variation. While most mutations are neutral or harmful, some can be beneficial and contribute to the process of evolution.\\n\\nOverall, these key mechanisms of evolution work together to drive changes in populations over time, leading to the diversity of life we see on Earth today.\\n\\n2. How does natural selection play a role in shaping the genetic diversity of species and driving adaptation to changing environments?\\nUnveiling the Secrets of Evolutionary Theory: How Natural Selection Shapes Genetic Diversity and Drives Adaptation\\n\\nNatural selection is a fundamental mechanism of evolution that plays a crucial role in shaping the genetic diversity of species and driving adaptation to changing environments. Essentially, natural selection acts as a filter, favoring individuals with traits that increase their chances of survival and reproduction in a given environment. Over time, this process leads to the accumulation of beneficial traits in a population, resulting in adaptation to specific environmental conditions.\\n\\nThrough natural selection, genetic variations that confer a survival advantage are passed on to future generations, while less advantageous traits are gradually eliminated. This continuous process of selection and adaptation allows species to evolve and thrive in diverse habitats, ultimately leading to the remarkable diversity of life on Earth.\\n\\nIn summary, natural selection is a powerful force that drives the evolution of species by shaping genetic diversity and promoting adaptation to changing environments. By understanding the mechanisms of natural selection, we can gain valuable insights into the complex processes that drive evolutionary change and shape the world around us.\\n\\n3. What are some current research topics in evolutionary biology that are pushing the boundaries of our understanding of the evolutionary process?\\nClickbait heading: \"Unveiling the Secrets of Evolutionary Theory: What You Need to Know!\"\\n\\nEvolutionary biology is a constantly evolving field, with researchers uncovering new insights into the mechanisms driving the evolutionary process. Some current research topics that are pushing the boundaries of our understanding include:\\n\\n1. Evolutionary genomics: By studying the genomes of different species, researchers can gain a deeper understanding of how genetic changes drive evolution.\\n\\n2. Evolutionary developmental biology (evo-devo): This field explores how changes in development can lead to evolutionary changes, shedding light on the relationship between development and evolution.\\n\\n3. Evolutionary ecology: Researchers are investigating how ecological factors influence the evolution of species, from adaptation to changing environments to the evolution of social behaviors.\\n\\n4. Evolutionary medicine: By applying evolutionary principles to the study of human health and disease, researchers are gaining insights into how our evolutionary history has shaped our susceptibility to various health conditions.\\n\\nOverall, these research topics are expanding our understanding of the evolutionary process and helping us unravel the complexities of how species evolve over time.'"
      ]
     },
     "execution_count": 11,
     "metadata": {},
     "output_type": "execute_result"
    }
   ],
   "source": [
    "context = '\\n\\n'.join([question+'\\n'+answer for question, answer in zip(questions, answers)])\n",
    "context"
   ]
  },
  {
   "cell_type": "code",
   "execution_count": 12,
   "metadata": {},
   "outputs": [],
   "source": [
    "prompt_text_3 = '''You are the evolutionary biologist, write a short explanation (may it be less than 15 sentences) to the topic: {topic}\n",
    "make your explanation based on three questions and three answers given in the context\n",
    "Answers to the questions: {context}'''\n",
    "\n",
    "prompt_3 = PromptTemplate.from_template(prompt_text_3)\n",
    "\n",
    "chain_3 = prompt_3 | llm | StrOutputParser()"
   ]
  },
  {
   "cell_type": "code",
   "execution_count": 13,
   "metadata": {},
   "outputs": [
    {
     "name": "stdout",
     "output_type": "stream",
     "text": [
      "Evolutionary biology is a fascinating field of study that seeks to understand the processes by which organisms have evolved and diversified over time. As an evolutionary biologist and professor at a university with my own lab, I have dedicated my career to unraveling the mysteries of evolution and sharing my findings with the scientific community.\n",
      "\n",
      "One of the key concepts in evolutionary biology is natural selection, which was famously proposed by Charles Darwin in his seminal work \"On the Origin of Species.\" Natural selection is the process by which organisms that are better adapted to their environment are more likely to survive and reproduce, passing on their advantageous traits to future generations. This results in the gradual accumulation of beneficial traits over time, leading to the diversity of life that we see on Earth today.\n",
      "\n",
      "Another important aspect of evolutionary biology is genetic drift, which refers to the random changes in the frequency of alleles (different versions of a gene) within a population. Genetic drift can lead to the loss of genetic diversity and the fixation of certain alleles, which can have important implications for the evolution of a species.\n",
      "\n",
      "In my lab, we use a combination of fieldwork, molecular biology, and computational techniques to study the evolutionary history of various organisms. By analyzing the genetic makeup of different populations, we can reconstruct their evolutionary relationships and infer how they have adapted to their environments over time.\n",
      "\n",
      "One of the most exciting recent developments in evolutionary biology is the use of genomic data to study evolution on a whole-genome scale. Advances in sequencing technology have made it possible to sequence the entire genomes of organisms, allowing researchers to study the genetic basis of adaptation and speciation in unprecedented detail.\n",
      "\n",
      "Overall, evolutionary biology is a dynamic and rapidly evolving field that continues to shed light on the processes that have shaped the diversity of life on Earth. As an evolutionary biologist, I am proud to be a part of this exciting and important scientific endeavor, and I look forward to uncovering even more secrets of evolution in the years to come.\n"
     ]
    }
   ],
   "source": [
    "res_final =chain.invoke({'topic' : 'Evolutionary biology', 'context' : context})\n",
    "print(res_final)"
   ]
  },
  {
   "cell_type": "markdown",
   "metadata": {},
   "source": []
  }
 ],
 "metadata": {
  "kernelspec": {
   "display_name": "base",
   "language": "python",
   "name": "python3"
  },
  "language_info": {
   "codemirror_mode": {
    "name": "ipython",
    "version": 3
   },
   "file_extension": ".py",
   "mimetype": "text/x-python",
   "name": "python",
   "nbconvert_exporter": "python",
   "pygments_lexer": "ipython3",
   "version": "3.12.6"
  }
 },
 "nbformat": 4,
 "nbformat_minor": 2
}
